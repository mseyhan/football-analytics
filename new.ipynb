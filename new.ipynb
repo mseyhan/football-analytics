{
 "cells": [
  {
   "cell_type": "code",
   "execution_count": 6,
   "metadata": {},
   "outputs": [
    {
     "name": "stderr",
     "output_type": "stream",
     "text": [
      "/Users/muratseyhan/anaconda3/lib/python3.11/site-packages/sklearn/cluster/_kmeans.py:1412: FutureWarning: The default value of `n_init` will change from 10 to 'auto' in 1.4. Set the value of `n_init` explicitly to suppress the warning\n",
      "  super()._check_params_vs_input(X, default_n_init=10)\n"
     ]
    },
    {
     "data": {
      "text/plain": [
       "array([[254.05580723, 253.99171529, 254.42627488],\n",
       "       [  1.51655214,   1.51655214,   1.51655214],\n",
       "       [ 56.15640138,  29.52456747, 212.18512111],\n",
       "       [143.39702683, 138.07179115, 174.56707759]])"
      ]
     },
     "execution_count": 6,
     "metadata": {},
     "output_type": "execute_result"
    }
   ],
   "source": [
    "#\n",
    "#  Use k-means clustering to find the most-common colors in an image\n",
    "#\n",
    "import cv2\n",
    "import numpy as np\n",
    "from sklearn.cluster import KMeans\n",
    "\n",
    "\n",
    "def make_histogram(cluster):\n",
    "    \"\"\"\n",
    "    Count the number of pixels in each cluster\n",
    "    :param: KMeans cluster\n",
    "    :return: numpy histogram\n",
    "    \"\"\"\n",
    "    numLabels = np.arange(0, len(np.unique(cluster.labels_)) + 1)\n",
    "    hist, _ = np.histogram(cluster.labels_, bins=numLabels)\n",
    "    hist = hist.astype('float32')\n",
    "    hist /= hist.sum()\n",
    "    return hist\n",
    "\n",
    "\n",
    "def make_bar(height, width, color):\n",
    "    \"\"\"\n",
    "    Create an image of a given color\n",
    "    :param: height of the image\n",
    "    :param: width of the image\n",
    "    :param: BGR pixel values of the color\n",
    "    :return: tuple of bar, rgb values\n",
    "    \"\"\"\n",
    "    bar = np.zeros((height, width, 3), np.uint8)\n",
    "    bar[:] = color\n",
    "    red, green, blue = int(color[2]), int(color[1]), int(color[0])\n",
    "    return bar, (red, green, blue)\n",
    "\n",
    "# START HERE\n",
    "img = cv2.imread('/Users/muratseyhan/football-analytics/logo-color-scraping/data/logo/Ajax.png')\n",
    "height, width, _ = np.shape(img)\n",
    "\n",
    "# reshape the image to be a simple list of RGB pixels\n",
    "image = img.reshape((height * width, 3))\n",
    "\n",
    "# we'll pick the 5 most common colors\n",
    "num_clusters = 4\n",
    "clusters = KMeans(n_clusters=num_clusters)\n",
    "clusters.fit(image)\n",
    "\n",
    "# count the dominant colors and put them in \"buckets\"\n",
    "histogram = make_histogram(clusters)\n",
    "# then sort them, most-common first\n",
    "combined = zip(histogram, clusters.cluster_centers_)\n",
    "combined = sorted(combined, key=lambda x: x[0], reverse=True)\n",
    "clusters.cluster_centers_"
   ]
  },
  {
   "cell_type": "code",
   "execution_count": null,
   "metadata": {},
   "outputs": [],
   "source": [
    "#\n",
    "#  Use k-means clustering to find the most-common colors in an image\n",
    "#\n",
    "import cv2\n",
    "import numpy as np\n",
    "from sklearn.cluster import KMeans\n",
    "\n",
    "\n",
    "def make_histogram(cluster):\n",
    "    \"\"\"\n",
    "    Count the number of pixels in each cluster\n",
    "    :param: KMeans cluster\n",
    "    :return: numpy histogram\n",
    "    \"\"\"\n",
    "    numLabels = np.arange(0, len(np.unique(cluster.labels_)) + 1)\n",
    "    hist, _ = np.histogram(cluster.labels_, bins=numLabels)\n",
    "    hist = hist.astype('float32')\n",
    "    hist /= hist.sum()\n",
    "    return hist\n",
    "\n",
    "def make_bar(height, width, color):\n",
    "    \"\"\"\n",
    "    Create an image of a given color\n",
    "    :param: height of the image\n",
    "    :param: width of the image\n",
    "    :param: BGR pixel values of the color\n",
    "    :return: tuple of bar, rgb values, and hsv values\n",
    "    \"\"\"\n",
    "    bar = np.zeros((height, width, 3), np.uint8)\n",
    "    bar[:] = color\n",
    "    red, green, blue = int(color[2]), int(color[1]), int(color[0])\n",
    "    hsv_bar = cv2.cvtColor(bar, cv2.COLOR_BGR2HSV)\n",
    "    hue, sat, val = hsv_bar[0][0]\n",
    "    return bar, (red, green, blue), (hue, sat, val)\n",
    "\n",
    "def sort_hsvs(hsv_list):\n",
    "    \"\"\"\n",
    "    Sort the list of HSV values\n",
    "    :param hsv_list: List of HSV tuples\n",
    "    :return: List of indexes, sorted by hue, then saturation, then value\n",
    "    \"\"\"\n",
    "    bars_with_indexes = []\n",
    "    for index, hsv_val in enumerate(hsv_list):\n",
    "        bars_with_indexes.append((index, hsv_val[0], hsv_val[1], hsv_val[2]))\n",
    "    bars_with_indexes.sort(key=lambda elem: (elem[1], elem[2], elem[3]))\n",
    "    return [item[0] for item in bars_with_indexes]\n",
    "\n",
    "# START HERE\n",
    "img = cv2.imread('data/logo/AC_Milan.png')\n",
    "height, width, _ = np.shape(img)\n",
    "\n",
    "# reshape the image to be a simple list of RGB pixels\n",
    "image = img.reshape((height * width, 3))\n",
    "\n",
    "# we'll pick the 5 most common colors\n",
    "num_clusters = 4\n",
    "clusters = KMeans(n_clusters=num_clusters)\n",
    "clusters.fit(image)\n",
    "\n",
    "# count the dominant colors and put them in \"buckets\"\n",
    "histogram = make_histogram(clusters)\n",
    "# then sort them, most-common first\n",
    "combined = zip(histogram, clusters.cluster_centers_)\n",
    "combined = sorted(combined, key=lambda x: x[0], reverse=True)\n",
    "\n",
    "# finally, we'll output a graphic showing the colors in order\n",
    "bars = []\n",
    "hsv_values = []\n",
    "for index, rows in enumerate(combined):\n",
    "    bar, rgb, hsv = make_bar(100, 100, rows[1])\n",
    "    print(f'Bar {index + 1}')\n",
    "    print(f'  RGB values: {rgb}')\n",
    "    print(f'  HSV values: {hsv}')\n",
    "    hsv_values.append(hsv)\n",
    "    bars.append(bar)\n",
    "\n",
    "# sort the bars[] list so that we can show the colored boxes sorted\n",
    "# by their HSV values -- sort by hue, then saturation\n",
    "sorted_bar_indexes = sort_hsvs(hsv_values)\n",
    "sorted_bars = [bars[idx] for idx in sorted_bar_indexes]\n",
    "\n",
    "cv2.imshow('Sorted by HSV values', np.hstack(sorted_bars))\n",
    "cv2.imshow(f'{num_clusters} Most Common Colors', np.hstack(bars))\n",
    "cv2.waitKey(0)"
   ]
  },
  {
   "cell_type": "code",
   "execution_count": 10,
   "metadata": {},
   "outputs": [
    {
     "data": {
      "text/plain": [
       "(1053, 800, 3)"
      ]
     },
     "execution_count": 10,
     "metadata": {},
     "output_type": "execute_result"
    }
   ],
   "source": [
    "import cv2\n",
    "import numpy as np\n",
    "from sklearn.cluster import KMeans\n",
    "\n",
    "# START HERE\n",
    "img = cv2.imread('logo-color-scraping/data/logo/AFC_Bournemouth.png') # read image\n",
    "height, width, _ = np.shape(img) \n",
    "height, width, _"
   ]
  },
  {
   "cell_type": "code",
   "execution_count": 14,
   "metadata": {},
   "outputs": [],
   "source": [
    "# reshape the image to be a simple list of RGB pixels\n",
    "image = img.reshape((height * width, 3)) "
   ]
  },
  {
   "cell_type": "code",
   "execution_count": 15,
   "metadata": {},
   "outputs": [
    {
     "data": {
      "text/plain": [
       "array([[0, 0, 0],\n",
       "       [0, 0, 0],\n",
       "       [0, 0, 0],\n",
       "       ...,\n",
       "       [0, 0, 0],\n",
       "       [0, 0, 0],\n",
       "       [0, 0, 0]], dtype=uint8)"
      ]
     },
     "execution_count": 15,
     "metadata": {},
     "output_type": "execute_result"
    }
   ],
   "source": [
    "image"
   ]
  },
  {
   "cell_type": "code",
   "execution_count": 17,
   "metadata": {},
   "outputs": [
    {
     "name": "stderr",
     "output_type": "stream",
     "text": [
      "/Users/muratseyhan/anaconda3/lib/python3.11/site-packages/sklearn/cluster/_kmeans.py:1412: FutureWarning: The default value of `n_init` will change from 10 to 'auto' in 1.4. Set the value of `n_init` explicitly to suppress the warning\n",
      "  super()._check_params_vs_input(X, default_n_init=10)\n"
     ]
    },
    {
     "data": {
      "text/html": [
       "<style>#sk-container-id-1 {color: black;}#sk-container-id-1 pre{padding: 0;}#sk-container-id-1 div.sk-toggleable {background-color: white;}#sk-container-id-1 label.sk-toggleable__label {cursor: pointer;display: block;width: 100%;margin-bottom: 0;padding: 0.3em;box-sizing: border-box;text-align: center;}#sk-container-id-1 label.sk-toggleable__label-arrow:before {content: \"▸\";float: left;margin-right: 0.25em;color: #696969;}#sk-container-id-1 label.sk-toggleable__label-arrow:hover:before {color: black;}#sk-container-id-1 div.sk-estimator:hover label.sk-toggleable__label-arrow:before {color: black;}#sk-container-id-1 div.sk-toggleable__content {max-height: 0;max-width: 0;overflow: hidden;text-align: left;background-color: #f0f8ff;}#sk-container-id-1 div.sk-toggleable__content pre {margin: 0.2em;color: black;border-radius: 0.25em;background-color: #f0f8ff;}#sk-container-id-1 input.sk-toggleable__control:checked~div.sk-toggleable__content {max-height: 200px;max-width: 100%;overflow: auto;}#sk-container-id-1 input.sk-toggleable__control:checked~label.sk-toggleable__label-arrow:before {content: \"▾\";}#sk-container-id-1 div.sk-estimator input.sk-toggleable__control:checked~label.sk-toggleable__label {background-color: #d4ebff;}#sk-container-id-1 div.sk-label input.sk-toggleable__control:checked~label.sk-toggleable__label {background-color: #d4ebff;}#sk-container-id-1 input.sk-hidden--visually {border: 0;clip: rect(1px 1px 1px 1px);clip: rect(1px, 1px, 1px, 1px);height: 1px;margin: -1px;overflow: hidden;padding: 0;position: absolute;width: 1px;}#sk-container-id-1 div.sk-estimator {font-family: monospace;background-color: #f0f8ff;border: 1px dotted black;border-radius: 0.25em;box-sizing: border-box;margin-bottom: 0.5em;}#sk-container-id-1 div.sk-estimator:hover {background-color: #d4ebff;}#sk-container-id-1 div.sk-parallel-item::after {content: \"\";width: 100%;border-bottom: 1px solid gray;flex-grow: 1;}#sk-container-id-1 div.sk-label:hover label.sk-toggleable__label {background-color: #d4ebff;}#sk-container-id-1 div.sk-serial::before {content: \"\";position: absolute;border-left: 1px solid gray;box-sizing: border-box;top: 0;bottom: 0;left: 50%;z-index: 0;}#sk-container-id-1 div.sk-serial {display: flex;flex-direction: column;align-items: center;background-color: white;padding-right: 0.2em;padding-left: 0.2em;position: relative;}#sk-container-id-1 div.sk-item {position: relative;z-index: 1;}#sk-container-id-1 div.sk-parallel {display: flex;align-items: stretch;justify-content: center;background-color: white;position: relative;}#sk-container-id-1 div.sk-item::before, #sk-container-id-1 div.sk-parallel-item::before {content: \"\";position: absolute;border-left: 1px solid gray;box-sizing: border-box;top: 0;bottom: 0;left: 50%;z-index: -1;}#sk-container-id-1 div.sk-parallel-item {display: flex;flex-direction: column;z-index: 1;position: relative;background-color: white;}#sk-container-id-1 div.sk-parallel-item:first-child::after {align-self: flex-end;width: 50%;}#sk-container-id-1 div.sk-parallel-item:last-child::after {align-self: flex-start;width: 50%;}#sk-container-id-1 div.sk-parallel-item:only-child::after {width: 0;}#sk-container-id-1 div.sk-dashed-wrapped {border: 1px dashed gray;margin: 0 0.4em 0.5em 0.4em;box-sizing: border-box;padding-bottom: 0.4em;background-color: white;}#sk-container-id-1 div.sk-label label {font-family: monospace;font-weight: bold;display: inline-block;line-height: 1.2em;}#sk-container-id-1 div.sk-label-container {text-align: center;}#sk-container-id-1 div.sk-container {/* jupyter's `normalize.less` sets `[hidden] { display: none; }` but bootstrap.min.css set `[hidden] { display: none !important; }` so we also need the `!important` here to be able to override the default hidden behavior on the sphinx rendered scikit-learn.org. See: https://github.com/scikit-learn/scikit-learn/issues/21755 */display: inline-block !important;position: relative;}#sk-container-id-1 div.sk-text-repr-fallback {display: none;}</style><div id=\"sk-container-id-1\" class=\"sk-top-container\"><div class=\"sk-text-repr-fallback\"><pre>KMeans(n_clusters=5)</pre><b>In a Jupyter environment, please rerun this cell to show the HTML representation or trust the notebook. <br />On GitHub, the HTML representation is unable to render, please try loading this page with nbviewer.org.</b></div><div class=\"sk-container\" hidden><div class=\"sk-item\"><div class=\"sk-estimator sk-toggleable\"><input class=\"sk-toggleable__control sk-hidden--visually\" id=\"sk-estimator-id-1\" type=\"checkbox\" checked><label for=\"sk-estimator-id-1\" class=\"sk-toggleable__label sk-toggleable__label-arrow\">KMeans</label><div class=\"sk-toggleable__content\"><pre>KMeans(n_clusters=5)</pre></div></div></div></div></div>"
      ],
      "text/plain": [
       "KMeans(n_clusters=5)"
      ]
     },
     "execution_count": 17,
     "metadata": {},
     "output_type": "execute_result"
    }
   ],
   "source": [
    "# we'll pick the 5 most common colors\n",
    "num_clusters = 5\n",
    "clusters = KMeans(n_clusters=num_clusters)\n",
    "clusters.fit(image)\n",
    "clusters"
   ]
  },
  {
   "cell_type": "code",
   "execution_count": null,
   "metadata": {},
   "outputs": [],
   "source": []
  }
 ],
 "metadata": {
  "kernelspec": {
   "display_name": "base",
   "language": "python",
   "name": "python3"
  },
  "language_info": {
   "codemirror_mode": {
    "name": "ipython",
    "version": 3
   },
   "file_extension": ".py",
   "mimetype": "text/x-python",
   "name": "python",
   "nbconvert_exporter": "python",
   "pygments_lexer": "ipython3",
   "version": "3.11.5"
  }
 },
 "nbformat": 4,
 "nbformat_minor": 2
}
